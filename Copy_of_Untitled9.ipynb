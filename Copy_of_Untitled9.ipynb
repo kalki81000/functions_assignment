{
  "nbformat": 4,
  "nbformat_minor": 0,
  "metadata": {
    "colab": {
      "provenance": [],
      "authorship_tag": "ABX9TyPnth7EqcUY64Ca4aUZvNnf",
      "include_colab_link": true
    },
    "kernelspec": {
      "name": "python3",
      "display_name": "Python 3"
    },
    "language_info": {
      "name": "python"
    }
  },
  "cells": [
    {
      "cell_type": "markdown",
      "metadata": {
        "id": "view-in-github",
        "colab_type": "text"
      },
      "source": [
        "<a href=\"https://colab.research.google.com/github/kalki81000/functions_assignment/blob/main/Copy_of_Untitled9.ipynb\" target=\"_parent\"><img src=\"https://colab.research.google.com/assets/colab-badge.svg\" alt=\"Open In Colab\"/></a>"
      ]
    },
    {
      "cell_type": "code",
      "execution_count": null,
      "metadata": {
        "id": "RyFolmNTidK6"
      },
      "outputs": [],
      "source": [
        "#1.explain the importance of function\n",
        "#Function are a fundamental concept in programming and they play a crucial role in writing efficient, modular,and maintainable code.Here are some key reason why functions are important;\n",
        "#1. Code Reusability: function allows you to encapsulate a specific piece of logic or functionality into a reusable block of code. Instead of repeating the same code multiple times throughout your program,you can write a function onces and call it whenever you need that particular functionality.This promotes code resuse reduce duplication and makes our code more concise and easier to maintain.\n",
        "#2.Modularity and Abstraction: function prompts modularity by breaking down complex problem into smaller more manegeable tasks Each function can be designed to perform a specific task or set of realated tasks making it easier to understand test and debug individual component of your cod ethis abstraction also allows you to hide implementation details and expose only the neceesary interface,making your code more organized and easier to work\n",
        "#3.code organazation:Function hepls in organiztion code by separating difference concern or resposiblities into different funcion this separation of concern improves code readiblity maintainability and tetability.\n",
        "#4.Code resuse and collaboration : Function facilitate code reuse not only within a single program but also across diferent projects or teams. by encapsulating functionality into well-defined function\n",
        "#5.Recursion and Abstraction - function enable recursion,which is a powerful technique for solvig compex problem by breaking them down into simpler instance of the same problem.\n",
        "#6.Testsbility and Debugging: Function makes it easier to test and debug your code since each function is a self-contained unit of code with specific input and output \"\"\""
      ]
    },
    {
      "cell_type": "code",
      "source": [
        "#2.write a basic function to greet student\n",
        "def greet_student(name):\n",
        "  return f\"Hello, {name}! Welcome to the class.\""
      ],
      "metadata": {
        "id": "0oIuj1nVnfj9"
      },
      "execution_count": null,
      "outputs": []
    },
    {
      "cell_type": "code",
      "source": [
        "#3.What is the difference between print ans return statement\n",
        "\"\"\"\n",
        "In programming ,print and return are two different statement that serves different purpose\n",
        "Print Statements:\n",
        "The print statement is used to displat output on the console or terminal. It is primarly used for debugging or to display intermediate result during program execution.When the print statement is executed it print the specified values(s)to the console and the program continues executing the next line of code after the print statement\n",
        "Return statement:\n",
        "The return statement is used inside a function to return a value from the function.\n",
        "It specifies the value that the function should output when called.\n",
        "When a return statement is encountered, the function stops its execution and returns the specified value to the caller.\n",
        "If no return statement is present in a function, the function implicitly returns None.\n",
        "The return statement can be used with or without a value, depending on whether the function needs to return something or not."
      ],
      "metadata": {
        "id": "yAtvGdqPoOvo"
      },
      "execution_count": null,
      "outputs": []
    },
    {
      "cell_type": "code",
      "source": [
        "# what are *args and **kwargs\n",
        "In Python, *args and **kwargs are special syntax used in function definitions to allow for a variable number of arguments to be passed to a function.\n",
        "\n",
        "1.*args (Non-Keyword Arguments):\n",
        "\n",
        "The *args syntax allows you to pass a non-keyworded, variable-length argument list to a function.\n",
        "The *args is used to collect non-keyworded arguments into a tuple.\n",
        "Inside the function, args will be a tuple containing all the extra positional arguments passed to the function.\n",
        "\n",
        "2.**kwargs (Keyword Arguments):\n",
        "\n",
        "The **kwargs syntax allows you to pass a keyworded, variable-length argument list to a function.\n",
        "The **kwargs is used to collect keyworded arguments into a dictionary.\n",
        "Inside the function, kwargs will be a dictionary containing all the keyworded arguments passed to the function.\n",
        "\n",
        "\n"
      ],
      "metadata": {
        "id": "fcNCFHZEolAe"
      },
      "execution_count": null,
      "outputs": []
    },
    {
      "cell_type": "code",
      "source": [
        "# explain the iterator function\n",
        "In Python, an iterator is an object that allows you to iterate over collections of data, such as lists, tuples, dictionaries, and sets, as well as over user-defined objects. The iter() function is used to get an iterator object from an iterable object (like a list or string).\n",
        "The syntax for the iter() function is:\n",
        "{pythonCopy codeiter(iterable, sentinel)}\n",
        "\n",
        "iterable is an object that supports iteration, such as a list, string, or a user-defined object that implements the __iter__() method.\n",
        "sentinel (optional) is used for sequence-like objects that have been consumed from an iterator in the past. It allows you to resume the iteration from that point."
      ],
      "metadata": {
        "id": "99ffmM0mr_3T"
      },
      "execution_count": null,
      "outputs": []
    },
    {
      "cell_type": "code",
      "source": [
        "#write a code that genrates the sequence of numbers form 1 to n using a genrator.\n",
        "def square_generator(n):\n",
        "    for i in range(1, n+1):\n",
        "        yield i*i\n",
        "\n",
        "# Test the generator\n",
        "n = 5\n",
        "for square in square_generator(n):\n",
        "    print(square)"
      ],
      "metadata": {
        "colab": {
          "base_uri": "https://localhost:8080/"
        },
        "id": "8T0JFr4ustKM",
        "outputId": "577475d0-9a35-4263-a9bf-f06c205948f9"
      },
      "execution_count": null,
      "outputs": [
        {
          "output_type": "stream",
          "name": "stdout",
          "text": [
            "1\n",
            "4\n",
            "9\n",
            "16\n",
            "25\n"
          ]
        }
      ]
    },
    {
      "cell_type": "code",
      "source": [
        "#7.write a code that generates palindrome number up to n using a generator\n",
        "def is_palindrome(num):\n",
        "    return str(num) == str(num)[::-1]\n",
        "\n",
        "def palindrome_generator(n):\n",
        "    for num in range(1, n+1):\n",
        "        if is_palindrome(num):\n",
        "            yield num\n",
        "\n",
        "# Test the generator\n",
        "n = 100\n",
        "for palindrome in palindrome_generator(n):\n",
        "    print(palindrome)"
      ],
      "metadata": {
        "colab": {
          "base_uri": "https://localhost:8080/"
        },
        "id": "z_KEpLPzuGMn",
        "outputId": "68c4cd08-8ed4-46d7-9509-b79c554dfde1"
      },
      "execution_count": null,
      "outputs": [
        {
          "output_type": "stream",
          "name": "stdout",
          "text": [
            "1\n",
            "2\n",
            "3\n",
            "4\n",
            "5\n",
            "6\n",
            "7\n",
            "8\n",
            "9\n",
            "11\n",
            "22\n",
            "33\n",
            "44\n",
            "55\n",
            "66\n",
            "77\n",
            "88\n",
            "99\n"
          ]
        }
      ]
    },
    {
      "cell_type": "code",
      "source": [
        "#8. write a code that generates even numbers from 2 to n using a generator\n",
        "def even_generator(n):\n",
        "    for i in range(2, n+1, 2):\n",
        "        yield i\n",
        "\n",
        "# Test the generator\n",
        "n = 20\n",
        "for even_num in even_generator(n):\n",
        "    print(even_num)"
      ],
      "metadata": {
        "colab": {
          "base_uri": "https://localhost:8080/"
        },
        "id": "46QH_RrGup89",
        "outputId": "bcca2e75-8592-41d8-e29a-f9a69bb35011"
      },
      "execution_count": null,
      "outputs": [
        {
          "output_type": "stream",
          "name": "stdout",
          "text": [
            "2\n",
            "4\n",
            "6\n",
            "8\n",
            "10\n",
            "12\n",
            "14\n",
            "16\n",
            "18\n",
            "20\n"
          ]
        }
      ]
    },
    {
      "cell_type": "code",
      "source": [
        "#9. write a code that generates powers to two up to n using generator\n",
        "def powers_of_two_generator(n):\n",
        "    power = 1\n",
        "    while power <= n:\n",
        "        yield power\n",
        "        power *= 2\n",
        "\n",
        "# Test the generator\n",
        "n = 50\n",
        "for power_of_two in powers_of_two_generator(n):\n",
        "    print(power_of_two)"
      ],
      "metadata": {
        "colab": {
          "base_uri": "https://localhost:8080/"
        },
        "id": "vE6uKkaPvH1G",
        "outputId": "2866a9b5-d074-48eb-bd13-2d16daf61f7d"
      },
      "execution_count": null,
      "outputs": [
        {
          "output_type": "stream",
          "name": "stdout",
          "text": [
            "1\n",
            "2\n",
            "4\n",
            "8\n",
            "16\n",
            "32\n"
          ]
        }
      ]
    },
    {
      "cell_type": "code",
      "source": [
        "#10. write a code that generates the prime numbers up to n using generator\n",
        "def is_prime(num):\n",
        "    if num <= 1:\n",
        "        return False\n",
        "    if num == 2:\n",
        "        return True\n",
        "    if num % 2 == 0:\n",
        "        return False\n",
        "    for i in range(3, int(num**0.5) + 1, 2):\n",
        "        if num % i == 0:\n",
        "            return False\n",
        "    return True\n",
        "\n",
        "def prime_generator(n):\n",
        "    for num in range(2, n+1):\n",
        "        if is_prime(num):\n",
        "            yield num\n",
        "\n",
        "# Test the generator\n",
        "n = 50\n",
        "for prime_num in prime_generator(n):\n",
        "    print(prime_num)"
      ],
      "metadata": {
        "colab": {
          "base_uri": "https://localhost:8080/"
        },
        "id": "eq-lnGwEwgtu",
        "outputId": "8876ff30-2ac4-411a-84d7-3202e909d9b3"
      },
      "execution_count": null,
      "outputs": [
        {
          "output_type": "stream",
          "name": "stdout",
          "text": [
            "2\n",
            "3\n",
            "5\n",
            "7\n",
            "11\n",
            "13\n",
            "17\n",
            "19\n",
            "23\n",
            "29\n",
            "31\n",
            "37\n",
            "41\n",
            "43\n",
            "47\n"
          ]
        }
      ]
    },
    {
      "cell_type": "code",
      "source": [
        "#11.write a code that uses a lambda function to calculate the sum of two numbers\n",
        "addition = lambda x, y: x + y\n",
        "\n",
        "# Test the lambda function\n",
        "num1 = 5\n",
        "num2 = 10\n",
        "result = addition(num1, num2)\n",
        "print(\"The sum of\", num1, \"and\", num2, \"is:\", result)\n",
        "\n"
      ],
      "metadata": {
        "colab": {
          "base_uri": "https://localhost:8080/"
        },
        "id": "cahc2fdCw99l",
        "outputId": "4e71c6d8-02cb-47ed-a172-37338437944e"
      },
      "execution_count": null,
      "outputs": [
        {
          "output_type": "stream",
          "name": "stdout",
          "text": [
            "The sum of 5 and 10 is: 15\n"
          ]
        }
      ]
    },
    {
      "cell_type": "code",
      "source": [
        "#12.write a code that uses a lambda function to calculate a square of a given numbers\n",
        "square = lambda x: x ** 2\n",
        "\n",
        "# Test the lambda function\n",
        "number = 5\n",
        "result = square(number)\n",
        "print(\"The square of\", number, \"is:\", result)\n"
      ],
      "metadata": {
        "colab": {
          "base_uri": "https://localhost:8080/"
        },
        "id": "upPrnIbRx1OH",
        "outputId": "f1bd4645-f35c-4078-f657-0e50884aa0b9"
      },
      "execution_count": null,
      "outputs": [
        {
          "output_type": "stream",
          "name": "stdout",
          "text": [
            "The square of 5 is: 25\n"
          ]
        }
      ]
    },
    {
      "cell_type": "code",
      "source": [
        "#13.write a code that uses a lambda function to check whether a given numbers is even or odd\n",
        "check_even_odd = lambda x: \"Even\" if x % 2 == 0 else \"Odd\"\n",
        "\n",
        "# Test the lambda function\n",
        "number = 5\n",
        "result = check_even_odd(number)\n",
        "print(number, \"is\", result)\n"
      ],
      "metadata": {
        "colab": {
          "base_uri": "https://localhost:8080/"
        },
        "id": "1XEFJCU1yz9P",
        "outputId": "059caebe-fa5d-4fb3-c4d6-89fa375941cb"
      },
      "execution_count": null,
      "outputs": [
        {
          "output_type": "stream",
          "name": "stdout",
          "text": [
            "5 is Odd\n"
          ]
        }
      ]
    },
    {
      "cell_type": "code",
      "source": [
        "#14.write a code that uses a lambda function to concatenated two strings\n",
        "concat_strings = lambda s1, s2: s1 + s2\n",
        "\n",
        "# Test the lambda function\n",
        "string1 = \"Hello, \"\n",
        "string2 = \"world!\"\n",
        "result = concat_strings(string1, string2)\n",
        "print(\"Concatenated string:\", result)\n"
      ],
      "metadata": {
        "colab": {
          "base_uri": "https://localhost:8080/"
        },
        "id": "9qT_1_t_zImG",
        "outputId": "68382478-2036-4f43-f2d3-ebcdc9ddcb13"
      },
      "execution_count": null,
      "outputs": [
        {
          "output_type": "stream",
          "name": "stdout",
          "text": [
            "Concatenated string: Hello, world!\n"
          ]
        }
      ]
    },
    {
      "cell_type": "code",
      "source": [
        "#15.write a code that uses a lambda function to find a maximum of three given numbers\n",
        "find_max = lambda x, y, z: max(x, y, z)\n",
        "\n",
        "# Test the lambda function\n",
        "num1 = 10\n",
        "num2 = 20\n",
        "num3 = 15\n",
        "result = find_max(num1, num2, num3)\n",
        "print(\"The maximum of\", num1, \",\", num2, \"and\", num3, \"is:\", result)\n"
      ],
      "metadata": {
        "colab": {
          "base_uri": "https://localhost:8080/"
        },
        "id": "S3ICiXxXzdx5",
        "outputId": "d1444689-13e4-464c-e4e2-5f00bbc9b0dc"
      },
      "execution_count": null,
      "outputs": [
        {
          "output_type": "stream",
          "name": "stdout",
          "text": [
            "The maximum of 10 , 20 and 15 is: 20\n"
          ]
        }
      ]
    },
    {
      "cell_type": "code",
      "source": [
        "#16.write a code that generates the sequence of a even numbers from a givn list\n",
        "numbers = [1, 2, 3, 4, 5, 6, 7, 8, 9, 10]\n",
        "\n",
        "# Using a list comprehension to filter even numbers\n",
        "even_numbers = [num for num in numbers if num % 2 == 0]\n",
        "\n",
        "print(\"Original list:\", numbers)\n",
        "print(\"Sequence of even numbers:\", even_numbers)\n"
      ],
      "metadata": {
        "colab": {
          "base_uri": "https://localhost:8080/"
        },
        "id": "Rn4tpbtVz2S_",
        "outputId": "654efdd0-f23b-4510-dbf2-9840aa0ffa7b"
      },
      "execution_count": null,
      "outputs": [
        {
          "output_type": "stream",
          "name": "stdout",
          "text": [
            "Original list: [1, 2, 3, 4, 5, 6, 7, 8, 9, 10]\n",
            "Sequence of even numbers: [2, 4, 6, 8, 10]\n"
          ]
        }
      ]
    },
    {
      "cell_type": "code",
      "source": [
        "#17.write a that calculate the product of positive numbers from a given list\n",
        "def calculate_product(numbers):\n",
        "    product = 1\n",
        "    for num in numbers:\n",
        "        if num > 0:\n",
        "            product *= num\n",
        "    return product\n",
        "\n",
        "# Test the function\n",
        "numbers = [1, 2, -3, 4, -5, 6, -7, 8, -9, 10]\n",
        "result = calculate_product(numbers)\n",
        "print(\"Product of positive numbers:\", result)\n"
      ],
      "metadata": {
        "colab": {
          "base_uri": "https://localhost:8080/"
        },
        "id": "AgOUacn_0Rq2",
        "outputId": "e7e6ff3b-2a61-4ee7-e304-f8cee3983fc8"
      },
      "execution_count": null,
      "outputs": [
        {
          "output_type": "stream",
          "name": "stdout",
          "text": [
            "Product of positive numbers: 3840\n"
          ]
        }
      ]
    },
    {
      "cell_type": "code",
      "source": [
        "#18. write a code that doubles the values of odd numbers from a given list\n",
        "def double_odd_numbers(numbers):\n",
        "    doubled_numbers = [num * 2 if num % 2 != 0 else num for num in numbers]\n",
        "    return doubled_numbers\n",
        "\n",
        "# Test the function\n",
        "numbers = [1, 2, 3, 4, 5, 6, 7, 8, 9, 10]\n",
        "doubled_numbers = double_odd_numbers(numbers)\n",
        "print(\"Original list:\", numbers)\n",
        "print(\"List with doubled values of odd numbers:\", doubled_numbers)\n"
      ],
      "metadata": {
        "colab": {
          "base_uri": "https://localhost:8080/"
        },
        "id": "hQetBpa00mbg",
        "outputId": "1ae3960d-715d-4a3c-e3ae-a98f626c1637"
      },
      "execution_count": null,
      "outputs": [
        {
          "output_type": "stream",
          "name": "stdout",
          "text": [
            "Original list: [1, 2, 3, 4, 5, 6, 7, 8, 9, 10]\n",
            "List with doubled values of odd numbers: [2, 2, 6, 4, 10, 6, 14, 8, 18, 10]\n"
          ]
        }
      ]
    },
    {
      "cell_type": "code",
      "source": [
        "#19. write a code that calculate the sum of cubes of numbers from a given list\n",
        "def sum_of_cubes(numbers):\n",
        "    sum_cubes = sum(num ** 3 for num in numbers)\n",
        "    return sum_cubes\n",
        "\n",
        "# Test the function\n",
        "numbers = [1, 2, 3, 4, 5]\n",
        "result = sum_of_cubes(numbers)\n",
        "print(\"Sum of cubes of numbers:\", result)\n"
      ],
      "metadata": {
        "colab": {
          "base_uri": "https://localhost:8080/"
        },
        "id": "b7EpoxL707wa",
        "outputId": "05010d40-5b40-4364-8e6a-62445f5ae3d4"
      },
      "execution_count": null,
      "outputs": [
        {
          "output_type": "stream",
          "name": "stdout",
          "text": [
            "Sum of cubes of numbers: 225\n"
          ]
        }
      ]
    },
    {
      "cell_type": "code",
      "source": [],
      "metadata": {
        "id": "6iZ9wFid1hp3"
      },
      "execution_count": null,
      "outputs": []
    },
    {
      "cell_type": "code",
      "source": [
        "#20. write a code that filters out prime numbers from a given list\n",
        "def is_prime(num):\n",
        "    if num <= 1:\n",
        "        return False\n",
        "    if num == 2:\n",
        "        return True\n",
        "    if num % 2 == 0:\n",
        "        return False\n",
        "    for i in range(3, int(num**0.5) + 1, 2):\n",
        "        if num % i == 0:\n",
        "            return False\n",
        "    return True\n",
        "\n",
        "def filter_prime_numbers(numbers):\n",
        "    prime_numbers = [num for num in numbers if is_prime(num)]\n",
        "    return prime_numbers\n",
        "\n",
        "# Test the function\n"
      ],
      "metadata": {
        "id": "j7UeqSFL1Pnt"
      },
      "execution_count": null,
      "outputs": []
    },
    {
      "cell_type": "code",
      "source": [
        "#27.what is a encapsulation in oop?\n",
        "Encapsulation in object-oriented programming (OOP) in Python refers to the concept of bundling the data (attributes) and methods (functions) that operate on the data into a single unit, known as a class. It hides the internal state of an object from outside interference and protects it from unintended access or modification. Encapsulation helps in achieving data abstraction and provides control over access to the data, allowing for more modular and maintainable code."
      ],
      "metadata": {
        "id": "fXoljUwB1k9f"
      },
      "execution_count": null,
      "outputs": []
    },
    {
      "cell_type": "code",
      "source": [
        "#28.explain the uses of access modifiers in python classes\n",
        "Access modifiers in Python classes control the accessibility of attributes and methods within the class and from outside the class. Here's a brief explanation of their uses:\n",
        "\n",
        "Public (public): Attributes and methods marked as public are accessible from anywhere, both inside and outside the class. By default, attributes and methods in Python classes are public if not specified otherwise.\n",
        "\n",
        "Protected (protected): Attributes and methods marked as protected are intended for internal use within the class and its subclasses. They can be accessed from within the class itself and its subclasses but are not intended for use outside of those contexts. In Python, the convention is to prefix protected attributes and methods with a single underscore (_).\n",
        "\n",
        "Private (private): Attributes and methods marked as private are accessible only from within the class itself. They are not intended to be accessed or modified directly from outside the class. In Python, the convention is to prefix private attributes and methods with a double underscore (__).\n",
        "\n",
        "Access modifiers help in encapsulating the internal state of a class, providing a way to control access to its attributes and methods, thus promoting data abstraction, security, and maintainability of the code.\n",
        "\n",
        "\n",
        "\n"
      ],
      "metadata": {
        "id": "JbbZmFhl2fmF"
      },
      "execution_count": null,
      "outputs": []
    },
    {
      "cell_type": "code",
      "source": [
        "#29.what is inheritance in oop?\n",
        "Inheritance in object-oriented programming (OOP) is a mechanism where a class (called the child class or subclass) can inherit attributes and methods from another class (called the parent class or superclass). This allows the child class to reuse code from the parent class and extend its functionality by adding new attributes or methods or by overriding existing ones. Inheritance facilitates code reusability, promotes modularity, and helps in creating a hierarchical structure of classes with shared characteristics and behaviors."
      ],
      "metadata": {
        "id": "VxfvakPg25Dl"
      },
      "execution_count": null,
      "outputs": []
    },
    {
      "cell_type": "code",
      "source": [
        "#30.define polymorphism in oop.\n",
        "Polymorphism in object-oriented programming (OOP) refers to the ability of different objects to respond to the same message or method invocation in different ways. It allows objects of different classes to be treated as objects of a common superclass and enables methods to behave differently based on the object they are called on. Polymorphism is typically achieved through method overriding and method overloading.\n",
        "\n",
        "- **Method Overriding:** When a subclass provides a specific implementation of a method that is already defined in its superclass. The method in the subclass overrides the implementation of the method in the superclass.\n",
        "\n",
        "- **Method Overloading:** In some programming languages (though not in Python), method overloading allows multiple methods with the same name but different parameters to be defined within the same class or across different classes. The appropriate method is chosen based on the number or types of arguments passed during method invocation.\n",
        "\n",
        "Polymorphism allows for code flexibility, modularity, and the implementation of common interfaces or behaviors across different classes, promoting code reuse and easier maintenance."
      ],
      "metadata": {
        "id": "_IrhT6NL3MDt"
      },
      "execution_count": null,
      "outputs": []
    },
    {
      "cell_type": "code",
      "source": [
        "#30.explain method overriding in python\n",
        "Method overriding in Python refers to the ability of a subclass to provide a new implementation for a method that is already defined in its superclass. When a method is overridden in a subclass, the subclass's implementation of the method is used instead of the superclass's implementation when the method is called on an object of the subclass.\n",
        "\n",
        "Key points about method overriding in Python:\n",
        "\n",
        "1. **Same Method Signature:** The method in the subclass must have the same name and parameters as the method in the superclass that it overrides.\n",
        "\n",
        "2. **Inheritance:** Method overriding occurs in the context of inheritance, where the subclass inherits the method from its superclass and provides its own implementation.\n",
        "\n",
        "3. **Dynamic Dispatch:** The method that gets called depends on the type of object that the method is called on. If the method is overridden in the subclass, the subclass's implementation is used; otherwise, the superclass's implementation is used.\n",
        "\n",
        "4. **Usage:** Method overriding allows subclasses to customize the behavior of inherited methods, providing a way to extend and specialize the functionality of the superclass.\n",
        "\n",
        "Method overriding is a fundamental aspect of polymorphism in object-oriented programming and allows for flexible and customizable behavior in subclasses."
      ],
      "metadata": {
        "id": "KYDTJ0Q_3bt-"
      },
      "execution_count": null,
      "outputs": []
    },
    {
      "cell_type": "code",
      "source": [
        "#31.define parent class animal with a method make _sounds that prints \"Generic animal sound\".create a child class dog inheriting from animal with a method make _sound that prints \"woof!\"\n",
        "class Animal:\n",
        "    def make_sound(self):\n",
        "        print(\"Generic animal sound\")\n",
        "\n",
        "class Dog(Animal):\n",
        "    def make_sound(self):\n",
        "        print(\"Woof!\")\n",
        "\n",
        "# Test the classes\n",
        "animal = Animal()\n",
        "animal.make_sound()  # Output: Generic animal sound\n",
        "\n",
        "dog = Dog()\n",
        "dog.make_sound()  # Output: Woof!\n"
      ],
      "metadata": {
        "colab": {
          "base_uri": "https://localhost:8080/"
        },
        "id": "3jHrHrRV30ia",
        "outputId": "f27d480e-14bc-4ba9-c2c6-33891a8fc1c9"
      },
      "execution_count": null,
      "outputs": [
        {
          "output_type": "stream",
          "name": "stdout",
          "text": [
            "Generic animal sound\n",
            "Woof!\n"
          ]
        }
      ]
    },
    {
      "cell_type": "code",
      "source": [
        "#32.define a method move in the animal class that prints \"Animal moves \".override the move method in the dog class to print \"Dog runs\".\n",
        "class Animal:\n",
        "    def move(self):\n",
        "        print(\"Animal moves\")\n",
        "\n",
        "    def make_sound(self):\n",
        "        print(\"Generic animal sound\")\n",
        "\n",
        "class Dog(Animal):\n",
        "    def move(self):\n",
        "        print(\"Dog runs\")\n",
        "\n",
        "    def make_sound(self):\n",
        "        print(\"Woof!\")\n",
        "\n",
        "# Test the classes\n",
        "animal = Animal()\n",
        "animal.move()  # Output: Animal moves\n",
        "\n",
        "dog = Dog()\n",
        "dog.move()  # Output: Dog runs\n"
      ],
      "metadata": {
        "colab": {
          "base_uri": "https://localhost:8080/"
        },
        "id": "GyaaIZzd40xS",
        "outputId": "79538791-46ff-43d6-93db-cbcab688d58a"
      },
      "execution_count": null,
      "outputs": [
        {
          "output_type": "stream",
          "name": "stdout",
          "text": [
            "Animal moves\n",
            "Dog runs\n"
          ]
        }
      ]
    },
    {
      "cell_type": "code",
      "source": [
        "#34.craete a class mammals with a method reproduce that print \"Giving birth to live young\" create a class Dogmammal inheriting from both dog and mammal\n",
        "class Mammals:\n",
        "    def reproduce(self):\n",
        "        print(\"Giving birth to live young\")\n",
        "\n",
        "class Animal:\n",
        "    def move(self):\n",
        "        print(\"Animal moves\")\n",
        "\n",
        "    def make_sound(self):\n",
        "        print(\"Generic animal sound\")\n",
        "\n",
        "class Dog(Animal):\n",
        "    def move(self):\n",
        "        print(\"Dog runs\")\n",
        "\n",
        "    def make_sound(self):\n",
        "        print(\"Woof!\")\n",
        "\n",
        "class DogMammal(Dog, Mammals):\n",
        "    pass\n",
        "\n",
        "# Test the classes\n",
        "dog_mammal = DogMammal()\n",
        "dog_mammal.move()  # Output: Dog runs\n",
        "dog_mammal.make_sound()  # Output: Woof!\n",
        "dog_mammal.reproduce()  # Output: Giving birth to live young\n"
      ],
      "metadata": {
        "colab": {
          "base_uri": "https://localhost:8080/"
        },
        "id": "1nCOkQX35fPc",
        "outputId": "0db7f831-a1b4-427d-f581-3ae10f099308"
      },
      "execution_count": null,
      "outputs": [
        {
          "output_type": "stream",
          "name": "stdout",
          "text": [
            "Dog runs\n",
            "Woof!\n",
            "Giving birth to live young\n"
          ]
        }
      ]
    },
    {
      "cell_type": "code",
      "source": [
        "#35.Create a class germanshepherd inheriting form dog and override the make_sound method to print \"Bark!.\"\n",
        "class Animal:\n",
        "    def move(self):\n",
        "        print(\"Animal moves\")\n",
        "\n",
        "    def make_sound(self):\n",
        "        print(\"Generic animal sound\")\n",
        "\n",
        "class Dog(Animal):\n",
        "    def move(self):\n",
        "        print(\"Dog runs\")\n",
        "\n",
        "    def make_sound(self):\n",
        "        print(\"Woof!\")\n",
        "\n",
        "class GermanShepherd(Dog):\n",
        "    def make_sound(self):\n",
        "        print(\"Bark!\")\n",
        "\n",
        "# Test the classes\n",
        "german_shepherd = GermanShepherd()\n",
        "german_shepherd.move()  # Output: Dog runs\n",
        "german_shepherd.make_sound()  # Output: Bark!\n"
      ],
      "metadata": {
        "colab": {
          "base_uri": "https://localhost:8080/"
        },
        "id": "TDE7yPCs6OvB",
        "outputId": "11c84530-2365-4f5f-9eee-89590c5ec998"
      },
      "execution_count": null,
      "outputs": [
        {
          "output_type": "stream",
          "name": "stdout",
          "text": [
            "Dog runs\n",
            "Bark!\n"
          ]
        }
      ]
    },
    {
      "cell_type": "code",
      "source": [
        "#36.define constructors in boyh the animal and dog classes with different initialization paremeters.\n",
        "#Certainly! In Python, constructors are defined using the `__init__` method. Here's how you can define constructors in both the `Animal` and `Dog` classes with different initialization parameters:\n",
        "\n",
        "```python\n",
        "class Animal:\n",
        "    def __init__(self, species):\n",
        "        self.species = species\n",
        "\n",
        "    def move(self):\n",
        "        print(\"Animal moves\")\n",
        "\n",
        "    def make_sound(self):\n",
        "        print(\"Generic animal sound\")\n",
        "\n",
        "class Dog(Animal):\n",
        "    def __init__(self, species, breed):\n",
        "        super().__init__(species)\n",
        "        self.breed = breed\n",
        "\n",
        "    def move(self):\n",
        "        print(\"Dog runs\")\n",
        "\n",
        "    def make_sound(self):\n",
        "        print(\"Woof!\")\n",
        "\n",
        "# Test the classes\n",
        "animal = Animal(\"Canine\")\n",
        "print(\"Animal species:\", animal.species)  # Output: Canine\n",
        "\n",
        "dog = Dog(\"Canine\", \"German Shepherd\")\n",
        "print(\"Dog species:\", dog.species)  # Output: Canine\n",
        "print(\"Dog breed:\", dog.breed)  # Output: German Shepherd\n",
        "```\n",
        "\n",
        "#In this code:\n",
        "\n",
        "#- The `Animal` class has a constructor `__init__` that initializes the `species` attribute.\n",
        "-# The `Dog` class also has a constructor `__init__` that initializes both the `species` and `breed` attributes. It calls the parent class constructor using `super()` to initialize the `species` attribute.\n",
        "- #When you create instances of `Animal` and `Dog`, you can provide different initialization parameters, and the appropriate attributes will be set accordingly."
      ],
      "metadata": {
        "colab": {
          "base_uri": "https://localhost:8080/",
          "height": 106
        },
        "collapsed": true,
        "id": "tlAr8b4Z8BFI",
        "outputId": "99462eb8-180b-48ff-8fea-be71a5aac4e7"
      },
      "execution_count": null,
      "outputs": [
        {
          "output_type": "error",
          "ename": "SyntaxError",
          "evalue": "invalid syntax (<ipython-input-27-bd92d8f9d3f3>, line 4)",
          "traceback": [
            "\u001b[0;36m  File \u001b[0;32m\"<ipython-input-27-bd92d8f9d3f3>\"\u001b[0;36m, line \u001b[0;32m4\u001b[0m\n\u001b[0;31m    ```python\u001b[0m\n\u001b[0m    ^\u001b[0m\n\u001b[0;31mSyntaxError\u001b[0m\u001b[0;31m:\u001b[0m invalid syntax\n"
          ]
        }
      ]
    },
    {
      "cell_type": "code",
      "source": [
        "#37.what is abstraction in python? how it is implemented.\n",
        "Abstraction in Python is a concept where only the necessary details of an object are displayed, while hiding the unnecessary implementation details. It allows us to focus on the essential features of an object, ignoring its implementation complexities.\n",
        "\n",
        "In Python, abstraction is often implemented using abstract classes and interfaces. Abstract classes are classes that contain one or more abstract methods, which are methods without implementation. These abstract methods define the interface of the class, specifying what methods must be implemented by subclasses. Interfaces, on the other hand, are similar to abstract classes but contain only method signatures without any implementation.\n",
        "\n",
        "Python's `abc` module provides tools for working with abstract classes and interfaces. You can define abstract methods using the `@abstractmethod` decorator, and subclasses are required to implement these methods.\n",
        "\n",
        "Here's a brief example of abstraction using abstract classes in Python:\n",
        "\n",
        "```python\n",
        "from abc import ABC, abstractmethod\n",
        "\n",
        "class Shape(ABC):\n",
        "    @abstractmethod\n",
        "    def area(self):\n",
        "        pass\n",
        "\n",
        "class Rectangle(Shape):\n",
        "    def __init__(self, width, height):\n",
        "        self.width = width\n",
        "        self.height = height\n",
        "\n",
        "    def area(self):\n",
        "        return self.width * self.height\n",
        "\n",
        "class Circle(Shape):\n",
        "    def __init__(self, radius):\n",
        "        self.radius = radius\n",
        "\n",
        "    def area(self):\n",
        "        return 3.14 * self.radius ** 2\n",
        "\n",
        "# Usage\n",
        "rect = Rectangle(5, 4)\n",
        "print(\"Rectangle area:\", rect.area())  # Output: 20\n",
        "\n",
        "circle = Circle(3)\n",
        "print(\"Circle area:\", circle.area())  # Output: 28.26\n",
        "```\n",
        "\n",
        "In this example:\n",
        "\n",
        "- `Shape` is an abstract class with an abstract method `area`.\n",
        "- `Rectangle` and `Circle` are concrete subclasses of `Shape` that implement the `area` method.\n",
        "- By using abstraction, we can work with different shapes using a common interface (`area` method) without worrying about the internal details of each shape's implementation."
      ],
      "metadata": {
        "id": "JNpHyZ5u88_R"
      },
      "execution_count": null,
      "outputs": []
    },
    {
      "cell_type": "code",
      "source": [
        "#38.explain the importance of abstraction in object-orianted programming\n",
        "Abstraction in object-oriented programming (OOP) is important because it allows developers to focus on the essential aspects of objects, hiding unnecessary implementation details. Here's why abstraction is significant:\n",
        "\n",
        "1. **Simplification:** Abstraction simplifies complex systems by presenting only the relevant details to the user, making it easier to understand and use.\n",
        "\n",
        "2. **Modularity:** Abstraction promotes modularity by separating the interface from the implementation. This allows changes to the implementation to be made without affecting the users of the abstraction.\n",
        "\n",
        "3. **Encapsulation:** Abstraction complements encapsulation by hiding the internal details of objects, reducing complexity and protecting the integrity of data.\n",
        "\n",
        "4. **Reusability:** Abstraction encourages code reuse by defining common interfaces that can be implemented by multiple classes. This promotes maintainability and reduces duplication of code.\n",
        "\n",
        "5. **Flexibility:** Abstraction allows for flexibility in designing and evolving software systems, as changes to the implementation can be made without impacting the external interface.\n",
        "\n",
        "Overall, abstraction helps in building more manageable, modular, and reusable software systems, leading to better maintainability and scalability of codebases."
      ],
      "metadata": {
        "id": "bjDHRhBh9SlO"
      },
      "execution_count": null,
      "outputs": []
    },
    {
      "cell_type": "code",
      "source": [
        "#39. how are abstract method different from regular method in python\n",
        "Abstract methods and regular methods in Python differ in the following ways:\n",
        "\n",
        "1. **Implementation:**\n",
        "   - Abstract methods are defined in abstract classes but have no implementation. They are declared using the `@abstractmethod` decorator and must be implemented by subclasses.\n",
        "   - Regular methods have implementation logic and are defined in classes without the need for decorators.\n",
        "\n",
        "2. **Usage:**\n",
        "   - Abstract methods serve as placeholders for methods that must be implemented by subclasses to provide specific functionality.\n",
        "   - Regular methods can be directly called on instances of the class that defines them.\n",
        "\n",
        "3. **Purpose:**\n",
        "   - Abstract methods define a contract or interface that subclasses must adhere to, promoting polymorphism and code reuse.\n",
        "   - Regular methods provide the core functionality of a class and can perform specific tasks or operations.\n",
        "\n",
        "In summary, abstract methods provide a way to define interfaces or blueprints for subclasses, while regular methods define the behavior of a class."
      ],
      "metadata": {
        "id": "EiOhQkEz9l52"
      },
      "execution_count": null,
      "outputs": []
    },
    {
      "cell_type": "code",
      "source": [
        "#40. how can you acheive absraction using interfaces in python\n",
        "In Python, abstraction using interfaces can be achieved by defining abstract base classes (ABCs) using the `abc` module. Here's how you can do it in short:\n",
        "\n",
        "1. Import the `ABC` class and `abstractmethod` decorator from the `abc` module.\n",
        "2. Define an abstract base class by inheriting from `ABC`.\n",
        "3. Define abstract methods within the abstract base class using the `abstractmethod` decorator.\n",
        "4. Subclasses must implement the abstract methods defined in the abstract base class to provide specific functionality.\n",
        "\n",
        "Here's a brief example:\n",
        "\n",
        "```python\n",
        "from abc import ABC, abstractmethod\n",
        "\n",
        "class Shape(ABC):\n",
        "    @abstractmethod\n",
        "    def area(self):\n",
        "        pass\n",
        "\n",
        "class Rectangle(Shape):\n",
        "    def __init__(self, width, height):\n",
        "        self.width = width\n",
        "        self.height = height\n",
        "\n",
        "    def area(self):\n",
        "        return self.width * self.height\n",
        "\n",
        "class Circle(Shape):\n",
        "    def __init__(self, radius):\n",
        "        self.radius = radius\n",
        "\n",
        "    def area(self):\n",
        "        return 3.14 * self.radius ** 2\n",
        "```\n",
        "\n",
        "In this example, `Shape` is an abstract base class defining an abstract method `area`. Subclasses like `Rectangle` and `Circle` must implement the `area` method to provide specific functionality. This achieves abstraction by defining a common interface (`area` method) for different shapes."
      ],
      "metadata": {
        "id": "rAf11-Eb9-pq"
      },
      "execution_count": null,
      "outputs": []
    },
    {
      "cell_type": "code",
      "source": [
        "#41.can you provide a example of how abstraction can be utilized to create a common interface for a group of releated classes in python\n",
        "Certainly! Here's a short example demonstrating how abstraction can be utilized to create a common interface for a group of related classes in Python:\n",
        "\n",
        "```python\n",
        "from abc import ABC, abstractmethod\n",
        "\n",
        "class Animal(ABC):\n",
        "    @abstractmethod\n",
        "    def speak(self):\n",
        "        pass\n",
        "\n",
        "class Dog(Animal):\n",
        "    def speak(self):\n",
        "        return \"Woof!\"\n",
        "\n",
        "class Cat(Animal):\n",
        "    def speak(self):\n",
        "        return \"Meow!\"\n",
        "\n",
        "class Cow(Animal):\n",
        "    def speak(self):\n",
        "        return \"Moo!\"\n",
        "\n",
        "# Usage\n",
        "dog = Dog()\n",
        "print(\"Dog says:\", dog.speak())  # Output: Dog says: Woof!\n",
        "\n",
        "cat = Cat()\n",
        "print(\"Cat says:\", cat.speak())  # Output: Cat says: Meow!\n",
        "\n",
        "cow = Cow()\n",
        "print(\"Cow says:\", cow.speak())  # Output: Cow says: Moo!\n",
        "```\n",
        "\n",
        "In this example:\n",
        "\n",
        "- `Animal` is an abstract base class defining an abstract method `speak`.\n",
        "- `Dog`, `Cat`, and `Cow` are concrete subclasses of `Animal` that implement the `speak` method with their own behavior.\n",
        "- By using abstraction, we can treat instances of `Dog`, `Cat`, and `Cow` uniformly through the common interface provided by the `speak` method, regardless of their specific implementation details."
      ],
      "metadata": {
        "id": "yhKU4RhW-U-f"
      },
      "execution_count": null,
      "outputs": []
    },
    {
      "cell_type": "code",
      "source": [
        "#42.how does python acheive polymorphism through method overriding\n",
        "Python achieves polymorphism through method overriding by allowing subclasses to provide their own implementation of methods defined in their superclass. Here's how it works in short:\n",
        "\n",
        "1. **Inheritance:** Subclasses inherit methods from their superclass.\n",
        "2. **Method Overriding:** Subclasses can override (replace) methods inherited from the superclass with their own implementation.\n",
        "3. **Dynamic Dispatch:** When a method is called on an object, Python dynamically determines which implementation of the method to invoke based on the type of the object.\n",
        "4. **Uniform Interface:** Regardless of the specific subclass, as long as they provide their own implementation of the method, they can be used interchangeably, promoting polymorphism."
      ],
      "metadata": {
        "id": "jGFgnv6d-5y9"
      },
      "execution_count": null,
      "outputs": []
    },
    {
      "cell_type": "code",
      "source": [
        "#43.define a base class with a method and a subclass that override the method\n",
        "Sure! Here's a short example defining a base class with a method and a subclass that overrides the method:\n",
        "\n",
        "```python\n",
        "class Animal:\n",
        "    def make_sound(self):\n",
        "        return \"Generic animal sound\"\n",
        "\n",
        "class Dog(Animal):\n",
        "    def make_sound(self):\n",
        "        return \"Woof!\"\n",
        "\n",
        "# Test the classes\n",
        "animal = Animal()\n",
        "print(\"Animal:\", animal.make_sound())  # Output: Generic animal sound\n",
        "\n",
        "dog = Dog()\n",
        "print(\"Dog:\", dog.make_sound())  # Output: Woof!\n",
        "```\n",
        "\n",
        "In this example:\n",
        "\n",
        "- `Animal` is the base class with a method `make_sound` that returns \"Generic animal sound\".\n",
        "- `Dog` is a subclass of `Animal` that overrides the `make_sound` method with its own implementation, returning \"Woof!\".\n",
        "- When you create instances of `Animal` and `Dog` and call their `make_sound` methods, you'll see the appropriate outputs."
      ],
      "metadata": {
        "id": "Au2Uk_kS_km_"
      },
      "execution_count": null,
      "outputs": []
    },
    {
      "cell_type": "code",
      "source": [
        "#44.define a base class and multiple subclass with overriding.\n",
        "Certainly! Here's a short example defining a base class and multiple subclasses with method overriding:\n",
        "\n",
        "```python\n",
        "class Shape:\n",
        "    def area(self):\n",
        "        return \"Generic shape area calculation\"\n",
        "\n",
        "class Rectangle(Shape):\n",
        "    def area(self):\n",
        "        return \"Area of rectangle = length * width\"\n",
        "\n",
        "class Circle(Shape):\n",
        "    def area(self):\n",
        "        return \"Area of circle = pi * radius^2\"\n",
        "\n",
        "# Test the classes\n",
        "shape = Shape()\n",
        "print(\"Shape:\", shape.area())  # Output: Generic shape area calculation\n",
        "\n",
        "rectangle = Rectangle()\n",
        "print(\"Rectangle:\", rectangle.area())  # Output: Area of rectangle = length * width\n",
        "\n",
        "circle = Circle()\n",
        "print(\"Circle:\", circle.area())  # Output: Area of circle = pi * radius^2\n",
        "```\n",
        "\n",
        "In this example:\n",
        "\n",
        "- `Shape` is the base class with a method `area` that provides a generic area calculation.\n",
        "- `Rectangle` and `Circle` are subclasses of `Shape` that override the `area` method with their own specific area calculation implementations.\n",
        "- When you create instances of `Shape`, `Rectangle`, and `Circle` and call their `area` methods, you'll see the appropriate outputs based on method overriding."
      ],
      "metadata": {
        "id": "EgaS1CjwAYkC"
      },
      "execution_count": null,
      "outputs": []
    },
    {
      "cell_type": "code",
      "source": [
        "#45 How does polymorphism improve code readiabilty and reusability.\n",
        "Polymorphism improves code readability and reusability by:\n",
        "\n",
        "1. **Readability:** Polymorphism allows for the use of a common interface to interact with different objects, reducing the need for conditional logic based on object types. This makes the code more intuitive and easier to understand.\n",
        "\n",
        "2. **Reusability:** Polymorphism promotes code reuse by allowing classes to be treated uniformly through a common interface. This means that code written to work with one type of object can often be reused with other types of objects that implement the same interface, without modification.\n",
        "\n",
        "Overall, polymorphism simplifies code structure, makes it easier to understand, and encourages the reuse of existing code, leading to more maintainable and scalable software systems."
      ],
      "metadata": {
        "id": "y9VRodbZAtJI"
      },
      "execution_count": null,
      "outputs": []
    },
    {
      "cell_type": "code",
      "source": [
        "#46.Describe how python support polymorphism with duck typing.\n",
        "In Python, polymorphism is supported through duck typing, which follows the principle of \"if it looks like a duck and quacks like a duck, then it must be a duck.\" This means that Python determines the compatibility of objects based on their behavior rather than their type or class hierarchy.\n",
        "\n",
        "In short, Python supports polymorphism with duck typing by allowing objects to be treated uniformly if they implement the same methods or behavior, regardless of their explicit type or class. This promotes code flexibility and encourages the use of common interfaces, leading to more concise and adaptable code."
      ],
      "metadata": {
        "id": "s2PyKoyeBQ3r"
      },
      "execution_count": null,
      "outputs": []
    },
    {
      "cell_type": "code",
      "source": [
        "#47.how do you achieve encapsulation in python?\n",
        "Encapsulation in Python is achieved by using private attributes and methods, which are accessible only within the class that defines them. This is typically done by prefixing attribute or method names with double underscores (`__`). This hides the implementation details of the class from the outside world and allows controlled access to the internal state of objects.\n",
        "\n",
        "In short, encapsulation in Python is achieved by:\n",
        "1. Using double underscores (`__`) to define private attributes and methods.\n",
        "2. Accessing and modifying these private attributes and methods through getter and setter methods, ensuring controlled access and modification of the internal state of objects."
      ],
      "metadata": {
        "id": "lOFIOrchB-NH"
      },
      "execution_count": null,
      "outputs": []
    },
    {
      "cell_type": "code",
      "source": [
        "#48. can encapsulation be bypassed in python ?if so ,how?\n",
        "Yes, encapsulation can be bypassed in Python using several techniques, although they go against the principles of encapsulation and are generally considered bad practice. Here's how encapsulation can be bypassed:\n",
        "\n",
        "1. **Accessing Private Attributes and Methods:** Although private attributes and methods are intended to be inaccessible from outside the class, they can still be accessed directly by name mangling. Python allows access to private attributes and methods using their mangled names (e.g., `_ClassName__private_attribute`).\n",
        "\n",
        "2. **Using Reflection:** Python's reflection capabilities allow access to private attributes and methods using functions such as `getattr()` and `setattr()`. These functions can access and modify private attributes and methods by name.\n",
        "\n",
        "3. **Using Descriptors:** Python descriptors, such as properties, can be used to define custom behavior for attribute access. While properties can enforce encapsulation by controlling access to attributes, they can also be used to bypass encapsulation by providing unrestricted access to private attributes.\n",
        "\n",
        "In short, while encapsulation is a fundamental principle of object-oriented programming in Python, it can be bypassed using techniques like name mangling, reflection, and descriptors. However, such practices should be avoided as they violate the intended encapsulation of class implementations and can lead to code that is difficult to maintain and understand."
      ],
      "metadata": {
        "id": "OiMtRq2UCVgq"
      },
      "execution_count": null,
      "outputs": []
    },
    {
      "cell_type": "code",
      "source": [
        "#49.implment a class bankaccount with a private balence attribute include methods to deposite withdraw and cheque the balence\n",
        "class BankAccount:\n",
        "    def __init__(self, initial_balance=0):\n",
        "        self.__balance = initial_balance\n",
        "\n",
        "    def deposit(self, amount):\n",
        "        if amount > 0:\n",
        "            self.__balance += amount\n",
        "            print(f\"Deposited {amount} units.\")\n",
        "        else:\n",
        "            print(\"Deposit amount should be greater than 0.\")\n",
        "\n",
        "    def withdraw(self, amount):\n",
        "        if 0 < amount <= self.__balance:\n",
        "            self.__balance -= amount\n",
        "            print(f\"Withdrawn {amount} units.\")\n",
        "        else:\n",
        "            print(\"Insufficient balance.\")\n",
        "\n",
        "    def check_balance(self):\n",
        "        print(f\"Current balance: {self.__balance} units.\")\n",
        "\n",
        "# Test the class\n",
        "account = BankAccount(100)\n",
        "account.check_balance()  # Output: Current balance: 100 units.\n",
        "\n",
        "account.deposit(50)  # Output: Deposited 50 units.\n",
        "account.check_balance()  # Output: Current balance: 150 units.\n",
        "\n",
        "account.withdraw(30)  # Output: Withdrawn 30 units.\n",
        "account.check_balance()  # Output: Current balance: 120 units.\n",
        "\n",
        "account.withdraw(200)  # Output: Insufficient balance.\n"
      ],
      "metadata": {
        "id": "m6JWBTpRCp2F"
      },
      "execution_count": null,
      "outputs": []
    },
    {
      "cell_type": "code",
      "source": [
        "#50.develope a person class with a private attribute name and email and method to set ans get the email\n",
        "class Person:\n",
        "    def __init__(self, name, email):\n",
        "        self.__name = name\n",
        "        self.__email = email\n",
        "\n",
        "    def set_email(self, email):\n",
        "        self.__email = email\n",
        "\n",
        "    def get_email(self):\n",
        "        return self.__email\n",
        "\n",
        "# Test the class\n",
        "person = Person(\"John Doe\", \"john@example.com\")\n",
        "\n",
        "# Get the email\n",
        "print(\"Email:\", person.get_email())  # Output: Email: john@example.com\n",
        "\n",
        "# Set a new email\n",
        "person.set_email(\"johndoe@example.com\")\n",
        "\n",
        "# Get the updated emai\n"
      ],
      "metadata": {
        "id": "uKFGQGoODHqk"
      },
      "execution_count": null,
      "outputs": []
    }
  ]
}